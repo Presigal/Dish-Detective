{
 "cells": [
  {
   "cell_type": "code",
   "execution_count": 2,
   "metadata": {},
   "outputs": [],
   "source": [
    "import tensorflow as tf\n",
    "import matplotlib.pyplot as plt\n",
    "import numpy as np\n",
    "import pandas as pd\n",
    "from tensorflow.keras.datasets import cifar10\n",
    "\n",
    "#https://stackoverflow.com/questions/69687794/unable-to-manually-load-cifar10-dataset\n",
    "import ssl\n",
    "ssl._create_default_https_context = ssl._create_unverified_context"
   ]
  },
  {
   "cell_type": "code",
   "execution_count": 3,
   "metadata": {},
   "outputs": [],
   "source": [
    "(train_data, train_labels), (test_data, test_labels) = cifar10.load_data()"
   ]
  },
  {
   "cell_type": "code",
   "execution_count": 4,
   "metadata": {},
   "outputs": [
    {
     "data": {
      "text/plain": [
       "((50000, 32, 32, 3), (50000, 1), (10000, 32, 32, 3), (10000, 1))"
      ]
     },
     "execution_count": 4,
     "metadata": {},
     "output_type": "execute_result"
    }
   ],
   "source": [
    "train_data.shape, train_labels.shape, test_data.shape, test_labels.shape"
   ]
  },
  {
   "cell_type": "code",
   "execution_count": 5,
   "metadata": {},
   "outputs": [
    {
     "data": {
      "text/plain": [
       "<matplotlib.image.AxesImage at 0x26b9eed3430>"
      ]
     },
     "execution_count": 5,
     "metadata": {},
     "output_type": "execute_result"
    },
    {
     "data": {
      "image/png": "[encoded data removed]",
      "text/plain": [
       "<Figure size 432x288 with 1 Axes>"
      ]
     },
     "metadata": {
      "needs_background": "light"
     },
     "output_type": "display_data"
    }
   ],
   "source": [
    "plt.imshow(train_data[420])"
   ]
  },
  {
   "cell_type": "code",
   "execution_count": 6,
   "metadata": {},
   "outputs": [
    {
     "data": {
      "text/plain": [
       "9"
      ]
     },
     "execution_count": 6,
     "metadata": {},
     "output_type": "execute_result"
    }
   ],
   "source": [
    "#classes_cifar10 = np.array([\"airplane\", \"automobile\", \"bird\", \"cat\", \"deer\", \"dog\", \"frog\", \"horse\", \"ship\", \"truck\"])\n",
    "#len(classes_cifar10)\n",
    "\n",
    "classes_cifar10={\n",
    "    \"airplane\": 0,\n",
    "    \"truck\": 1,\n",
    "    \"bird\" : 2, \n",
    "    \"cat\" : 3, \n",
    "    \"deer\" : 4, \n",
    "    \"dog\" : 5, \n",
    "    \"frog\" : 6, \n",
    "    \"horse\" : 7, \n",
    "    \"ship\" : 8, \n",
    "    \"truck\" : 9\n",
    "}\n",
    "\n",
    "len(classes_cifar10)"
   ]
  },
  {
   "cell_type": "code",
   "execution_count": 7,
   "metadata": {},
   "outputs": [
    {
     "data": {
      "text/plain": [
       "(TensorShape([50000, 32, 32, 3]), TensorShape([50000, 1, 9]))"
      ]
     },
     "execution_count": 7,
     "metadata": {},
     "output_type": "execute_result"
    }
   ],
   "source": [
    "train_data_norm = tf.constant(train_data/(train_data.max()), dtype=\"float32\")\n",
    "test_data_norm = tf.constant(test_data/(test_data.max()), dtype=\"float32\")\n",
    "train_labels_oneHot = tf.one_hot(train_labels, depth=len(classes_cifar10))\n",
    "test_labels_oneHot = tf.one_hot(test_labels, depth=len(classes_cifar10))\n",
    "\n",
    "train_data_norm.shape, train_labels_oneHot.shape"
   ]
  },
  {
   "cell_type": "code",
   "execution_count": 8,
   "metadata": {},
   "outputs": [
    {
     "data": {
      "image/png": "[encoded data removed]",
      "text/plain": [
       "<Figure size 504x504 with 4 Axes>"
      ]
     },
     "metadata": {
      "needs_background": "light"
     },
     "output_type": "display_data"
    }
   ],
   "source": [
    "import random\n",
    "\n",
    "plt.figure(figsize=(7,7))\n",
    "\n",
    "for i in range(4):\n",
    "  ax=plt.subplot(2, 2, i+1)\n",
    "  rand_index = random.choice(range(len(train_data)))\n",
    "  plt.imshow(train_data[rand_index], cmap=plt.cm.binary)\n",
    "  #plt.title(classes_cifar10(rand_index))\n",
    "  plt.axis(False)"
   ]
  },
  {
   "cell_type": "code",
   "execution_count": null,
   "metadata": {},
   "outputs": [
    {
     "name": "stdout",
     "output_type": "stream",
     "text": [
      "Epoch 1/40\n",
      "1563/1563 [==============================] - 63s 40ms/step - loss: 8.4959 - accuracy: 0.21840s - loss: 8.560\n",
      "Epoch 2/40\n",
      "1563/1563 [==============================] - 59s 38ms/step - loss: 2.1413 - accuracy: 0.2687\n",
      "Epoch 3/40\n",
      "1563/1563 [==============================] - 58s 37ms/step - loss: 2.1541 - accuracy: 0.23871s - los\n",
      "Epoch 4/40\n",
      "1563/1563 [==============================] - 61s 39ms/step - loss: 2.1356 - accuracy: 0.1758\n",
      "Epoch 5/40\n",
      "1563/1563 [==============================] - 55s 35ms/step - loss: 2.1923 - accuracy: 0.1548\n",
      "Epoch 6/40\n",
      "1563/1563 [==============================] - 55s 35ms/step - loss: 2.3033 - accuracy: 0.0996\n",
      "Epoch 7/40\n",
      "1563/1563 [==============================] - 57s 36ms/step - loss: 2.3057 - accuracy: 0.1008\n",
      "Epoch 8/40\n",
      " 102/1563 [>.............................] - ETA: 55s - loss: 2.3027 - accuracy: 0.1051"
     ]
    }
   ],
   "source": [
    "#create the model\n",
    "\n",
    "epoch = 40\n",
    "tf.random.set_seed(42)\n",
    "\n",
    "myModel = tf.keras.Sequential([\n",
    "                               tf.keras.layers.Flatten(input_shape=(32,32,3)),\n",
    "                               tf.keras.layers.Dense(128, activation=\"relu\"),\n",
    "                               tf.keras.layers.Dense(64, activation=\"relu\"),\n",
    "                               tf.keras.layers.Dense(32, activation=\"relu\"),\n",
    "                               tf.keras.layers.Dense(10, activation=\"softmax\")\n",
    "])\n",
    "\n",
    "#compile the model\n",
    "myModel.compile(loss=tf.keras.losses.SparseCategoricalCrossentropy(),\n",
    "                optimizer=tf.keras.optimizers.Adam(),\n",
    "                metrics=[\"accuracy\"])\n",
    "\n",
    "\n",
    "#create the learning rate callback\n",
    "lr_scheduler = tf.keras.callbacks.LearningRateScheduler(lambda epoch: 1e-3 * 10**(epoch/20))\n",
    "\n",
    "#fit the model\n",
    "myModel_history = myModel.fit(train_data, \n",
    "                              train_labels, \n",
    "                              epochs=epoch,\n",
    "                              callbacks=[lr_scheduler])"
   ]
  },
  {
   "cell_type": "code",
   "execution_count": null,
   "metadata": {},
   "outputs": [],
   "source": [
    "lrs = 1e-3 * (10 **(tf.range(epoch)/20))\n",
    "plt.semilogx(lrs, myModel_history.history[\"loss\"])\n",
    "plt.xlabel(\"Learning Rate\")\n",
    "plt.ylabel(\"Loss\")\n",
    "plt.title(\"Finding the ideal learning rate\")"
   ]
  },
  {
   "cell_type": "code",
   "execution_count": null,
   "metadata": {},
   "outputs": [],
   "source": []
  }
 ],
 "metadata": {
  "kernelspec": {
   "display_name": "Python 3 (ipykernel)",
   "language": "python",
   "name": "python3"
  },
  "language_info": {
   "codemirror_mode": {
    "name": "ipython",
    "version": 3
   },
   "file_extension": ".py",
   "mimetype": "text/x-python",
   "name": "python",
   "nbconvert_exporter": "python",
   "pygments_lexer": "ipython3",
   "version": "3.9.7"
  }
 },
 "nbformat": 4,
 "nbformat_minor": 4
}
